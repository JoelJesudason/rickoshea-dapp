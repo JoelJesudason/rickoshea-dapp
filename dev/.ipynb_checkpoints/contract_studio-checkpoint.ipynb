{
 "cells": [
  {
   "cell_type": "code",
   "execution_count": 1,
   "metadata": {},
   "outputs": [
    {
     "name": "stdout",
     "output_type": "stream",
     "text": [
      "env loaded\n",
      "w3 connected: True\n"
     ]
    }
   ],
   "source": [
    "# from web3.auto.infura import w3\n",
    "from pathlib import Path\n",
    "import os\n",
    "import sys\n",
    "import json\n",
    "import time\n",
    "import pandas as pd\n",
    "from dotenv import load_dotenv\n",
    "load_dotenv()\n",
    "\n",
    "from web3 import Web3\n",
    "PROVIDER_URI = \"wss://{network}.infura.io/ws/v3/{project_id}\".format(\n",
    "                network='goerli', project_id=os.getenv(\"WEB3_INFURA_PROJECT_ID\"))\n",
    "w3 = Web3(Web3.WebsocketProvider(PROVIDER_URI))\n",
    "\n",
    "# verifying environment set-up\n",
    "print(\"env loaded\") if type(os.getenv(\"WEB3_INFURA_PROJECT_ID\")) == str else print(\"env not loaded\")\n",
    "print(\"w3 connected:\",str(w3.isConnected()))"
   ]
  },
  {
   "cell_type": "markdown",
   "metadata": {},
   "source": [
    "## Test the balance of specific ERC20 tokens in a contract or wallet"
   ]
  },
  {
   "cell_type": "code",
   "execution_count": 46,
   "metadata": {},
   "outputs": [
    {
     "name": "stdout",
     "output_type": "stream",
     "text": [
      "359.39098418209846\n"
     ]
    }
   ],
   "source": [
    "# loading abi\n",
    "with open(Path(\"./abi/ERC20.json\")) as json_file:\n",
    "    erc20_abi = json.load(json_file)\n",
    "\n",
    "# Super fUSDC Fake Token (fUSDCx) contract address\n",
    "fUSDCx_address = '0x8aE68021f6170E5a766bE613cEA0d75236ECCa9a'\n",
    "# Super ETH (ETHx) contract address\n",
    "ETHx_address = '0x5943f705abb6834cad767e6e4bb258bc48d9c947'\n",
    "# DApp contract address\n",
    "dapp_address = '0xd76b685e4a025E173D5B420F368DdE70f4e40E41'\n",
    "# User Address\n",
    "user_address = '0xc41876DAB61De145093b6aA87417326B24Ae4ECD'\n",
    "\n",
    "erc20_instance = w3.eth.contract(\n",
    "    address=Web3.toChecksumAddress(fUSDCx_address),\n",
    "    abi = erc20_abi\n",
    ")\n",
    "\n",
    "tokenamount = erc20_instance.functions.balanceOf(Web3.toChecksumAddress(user_address)).call()\n",
    "\n",
    "print(tokenamount/1000000000000000000)"
   ]
  },
  {
   "cell_type": "markdown",
   "metadata": {},
   "source": [
    "## Interacting with a contract"
   ]
  },
  {
   "cell_type": "code",
   "execution_count": 3,
   "metadata": {},
   "outputs": [
    {
     "name": "stdout",
     "output_type": "stream",
     "text": [
      "========Functions========\n",
      "INDEX_ID\n",
      "afterAgreementCreated\n",
      "afterAgreementTerminated\n",
      "afterAgreementUpdated\n",
      "beforeAgreementCreated\n",
      "beforeAgreementTerminated\n",
      "beforeAgreementUpdated\n",
      "distribute\n",
      "getlastDistributionAt\n",
      "owner\n",
      "renounceOwnership\n",
      "setExchangeRate\n",
      "transferOwnership\n"
     ]
    }
   ],
   "source": [
    "# loading abi\n",
    "with open(Path(\"./abi/StreamExchange.json\")) as json_file:\n",
    "    dapp_abi = json.load(json_file)\n",
    "    \n",
    "# DApp contract address\n",
    "dapp_address = '0xb167DB191F0a02d3461B64E7D35F77b1BDd90A90'\n",
    "# Interacting wallet address\n",
    "wallet_address = '0xc41876DAB61De145093b6aA87417326B24Ae4ECD'\n",
    "\n",
    "dapp_instance = w3.eth.contract(\n",
    "    address=Web3.toChecksumAddress(dapp_address),\n",
    "    abi = dapp_abi['abi']\n",
    ")\n",
    "\n",
    "print(\"========Functions========\")\n",
    "for func in list(dapp_instance.functions):\n",
    "    print(func)\n",
    "\n",
    "#nonce = Web3.get_transaction_count('0x5ce9454909639D2D17A3F753ce7d93fa0b9aB12E')"
   ]
  },
  {
   "cell_type": "code",
   "execution_count": 33,
   "metadata": {},
   "outputs": [
    {
     "data": {
      "text/plain": [
       "HexBytes('0x20d0fb16b889a5eff8d9e01edf77e377aa783d16ff717829b42c4b214a80516e')"
      ]
     },
     "execution_count": 33,
     "metadata": {},
     "output_type": "execute_result"
    }
   ],
   "source": [
    "from hexbytes import HexBytes\n",
    "\n",
    "setExchangeRate_tx = dapp_instance.functions.setExchangeRate(3530).buildTransaction({\n",
    "                                                                # 'chainID':1,\n",
    "                                                                'gas':177421,\n",
    "                                                                'gasPrice': w3.toWei('1.049366464','gwei'),\n",
    "                                                                'nonce':100\n",
    "                                                                })\n",
    "\n",
    "signed_txn = w3.eth.account.signTransaction(setExchangeRate_tx, private_key=os.getenv('WALLET_PRIV_KEY'))\n",
    "# print(signed_txn.hash.hex())\n",
    "\n",
    "w3.eth.sendRawTransaction(signed_txn.rawTransaction)"
   ]
  },
  {
   "cell_type": "code",
   "execution_count": 36,
   "metadata": {},
   "outputs": [
    {
     "data": {
      "text/plain": [
       "HexBytes('0x29981ea5094816b696327c894907bf032a59a655f4de911e48899bd51c2eb639')"
      ]
     },
     "execution_count": 36,
     "metadata": {},
     "output_type": "execute_result"
    }
   ],
   "source": [
    "distribute_tx = dapp_instance.functions.distribute().buildTransaction({\n",
    "                                                        # 'chainID':1,\n",
    "                                                        'gas':177421,\n",
    "                                                        'gasPrice': w3.toWei('1.049366464','gwei'),\n",
    "                                                        'nonce':100\n",
    "                                                        })\n",
    "\n",
    "signed_txn = w3.eth.account.signTransaction(distribute_tx, private_key=os.getenv('WALLET_PRIV_KEY'))\n",
    "# print(signed_txn.hash.hex())\n",
    "\n",
    "w3.eth.sendRawTransaction(signed_txn.rawTransaction)"
   ]
  },
  {
   "cell_type": "code",
   "execution_count": null,
   "metadata": {},
   "outputs": [],
   "source": []
  }
 ],
 "metadata": {
  "kernelspec": {
   "display_name": "Python 3",
   "language": "python",
   "name": "python3"
  },
  "language_info": {
   "codemirror_mode": {
    "name": "ipython",
    "version": 3
   },
   "file_extension": ".py",
   "mimetype": "text/x-python",
   "name": "python",
   "nbconvert_exporter": "python",
   "pygments_lexer": "ipython3",
   "version": "3.7.9"
  }
 },
 "nbformat": 4,
 "nbformat_minor": 4
}
